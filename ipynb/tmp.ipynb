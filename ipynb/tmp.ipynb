{
 "cells": [
  {
   "cell_type": "code",
   "execution_count": null,
   "id": "7c0aaf16",
   "metadata": {
    "vscode": {
     "languageId": "plaintext"
    }
   },
   "outputs": [],
   "source": [
    "print(df.shape)\n",
    "# フィールド情報を統合したDataFrameを作成\n",
    "field_info_df = pd.DataFrame({\n",
    "    'dtype': df.dtypes,\n",
    "    'isna_sum': df.isna().sum(),\n",
    "    'nunique': df.nunique()\n",
    "})\n",
    "\n",
    "print(\"フィールド情報統合DataFrame:\")\n",
    "field_info_df.sort_values('nunique', ascending=True)"
   ]
  }
 ],
 "metadata": {
  "language_info": {
   "name": "python"
  }
 },
 "nbformat": 4,
 "nbformat_minor": 5
}
