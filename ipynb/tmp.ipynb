{
 "cells": [
  {
   "cell_type": "markdown",
   "id": "42cff4b1",
   "metadata": {},
   "source": [
    "# EDA"
   ]
  },
  {
   "cell_type": "code",
   "execution_count": null,
   "id": "7c0aaf16",
   "metadata": {},
   "outputs": [],
   "source": [
    "print(df.shape)\n",
    "# フィールド情報を統合したDataFrameを作成\n",
    "field_info_df = pd.DataFrame({\n",
    "    'dtype': df.dtypes,\n",
    "    'isna_sum': df.isna().sum(),\n",
    "    'nunique': df.nunique()\n",
    "})\n",
    "\n",
    "print(\"フィールド情報統合DataFrame:\")\n",
    "field_info_df.sort_values('nunique', ascending=True)"
   ]
  },
  {
   "cell_type": "markdown",
   "id": "e2a0938b",
   "metadata": {},
   "source": [
    "# テスト"
   ]
  },
  {
   "cell_type": "code",
   "execution_count": null,
   "id": "0547e907",
   "metadata": {},
   "outputs": [],
   "source": [
    "import pandas as pd\n",
    "def compare_dataframes(\n",
    "    df1: pd.DataFrame,\n",
    "    df2: pd.DataFrame,\n",
    ") -> bool | pd.DataFrame:\n",
    "    df1c = df1.copy()\n",
    "    df2c = df2.copy()\n",
    "\n",
    "    # NaNを持っているか\n",
    "    if df1c.isna().any().any():\n",
    "        print('df1にNaNがあります')\n",
    "    if df2c.isna().any().any():\n",
    "        print('df2にNaNがあります')\n",
    "\n",
    "    # objectに変換\n",
    "    df1c = df1c.fillna('').astype(str)\n",
    "    df2c = df2c.fillna('').astype(str)\n",
    "\n",
    "    # カラムの一致を確認（差分のみ表示）\n",
    "    df1_columns = set(df1c.columns)\n",
    "    df2_columns = set(df2c.columns)\n",
    "\n",
    "    df1_only = sorted(df1_columns - df2_columns)\n",
    "    df2_only = sorted(df2_columns - df1_columns)\n",
    "\n",
    "    if df1_only or df2_only:\n",
    "        parts = []\n",
    "        if df1_only:\n",
    "            parts.append(f'df1にのみ存在: {df1_only}')\n",
    "        if df2_only:\n",
    "            parts.append(f'df2にのみ存在: {df2_only}')\n",
    "        print('カラム差分があります: ' + '; '.join(parts))\n",
    "        return False\n",
    "    print('カラムは同じです')\n",
    "\n",
    "    common_columns = sorted(df1c.columns)\n",
    "    df1c = df1c[common_columns]\n",
    "    df2c = df2c[common_columns]\n",
    "\n",
    "    # レコード内容の差分（種類の差）を確認\n",
    "    df1dd = df1c.drop_duplicates(subset=common_columns)\n",
    "    df2dd = df2c.drop_duplicates(subset=common_columns)\n",
    "    df_merged = pd.merge(df1dd, df2dd, how='outer', indicator=True, on=common_columns)\n",
    "    diff_records = df_merged[df_merged['_merge'] != 'both']\n",
    "    if not diff_records.empty:\n",
    "        print('レコード差分があります（値の種類が違う）')\n",
    "        print(diff_records.shape)\n",
    "\n",
    "        return diff_records\n",
    "    print('レコードの種類は同じです')\n",
    "\n",
    "    # 重複の分布（同一レコードの出現回数）が同じかを確認\n",
    "    cnt1 = df1c.groupby(common_columns, dropna=False).size().rename('count').reset_index()\n",
    "    cnt2 = df2c.groupby(common_columns, dropna=False).size().rename('count').reset_index()\n",
    "    cnt_m = cnt1.merge(\n",
    "        cnt2,\n",
    "        on=common_columns,\n",
    "        how='outer',\n",
    "        indicator=True,\n",
    "        suffixes=('_df1', '_df2'),\n",
    "    ).fillna({'count_df1': 0, 'count_df2': 0})\n",
    "    multiplicity_diff = cnt_m.query('count_df1 != count_df2')\n",
    "    if not multiplicity_diff.empty:\n",
    "        print('同一レコードの出現回数（重複の分布）に差分があります')\n",
    "\n",
    "        return multiplicity_diff\n",
    "\n",
    "    print('重複の分布も同じです')\n",
    "    print('Same df')\n",
    "    return True"
   ]
  },
  {
   "cell_type": "markdown",
   "id": "d17d7d1b",
   "metadata": {},
   "source": [
    "# 有効数字関数"
   ]
  },
  {
   "cell_type": "code",
   "execution_count": null,
   "id": "a8c6a13b",
   "metadata": {},
   "outputs": [],
   "source": [
    "from decimal import Decimal\n",
    "\n",
    "\n",
    "def format_number_as_string(x: str, sig=3) -> str:\n",
    "    try:\n",
    "        if isinstance(x, str):\n",
    "            s = x.strip()\n",
    "            d = Decimal(s)\n",
    "        else:\n",
    "            return '0'\n",
    "    except Exception:\n",
    "        return '0'\n",
    "\n",
    "    if d.is_zero():\n",
    "        return '0'\n",
    "    e = d.adjusted()  # 先頭有効桁の指数\n",
    "    q = Decimal(f'1e{e - (sig - 1)}')  # 丸め単位\n",
    "    r = d.quantize(q, rounding=ROUND_FLOOR)\n",
    "    s = format(r, 'f')\n",
    "    if '.' in s:\n",
    "        s = s.rstrip('0').rstrip('.')\n",
    "    return s"
   ]
  }
 ],
 "metadata": {
  "kernelspec": {
   "display_name": "settings",
   "language": "python",
   "name": "python3"
  },
  "language_info": {
   "name": "python",
   "version": "3.13.5"
  }
 },
 "nbformat": 4,
 "nbformat_minor": 5
}
