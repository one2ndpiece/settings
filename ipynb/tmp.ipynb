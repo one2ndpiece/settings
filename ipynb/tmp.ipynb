{
 "cells": [
  {
   "cell_type": "markdown",
   "id": "42cff4b1",
   "metadata": {},
   "source": [
    "# EDA"
   ]
  },
  {
   "cell_type": "code",
   "execution_count": null,
   "id": "7c0aaf16",
   "metadata": {},
   "outputs": [],
   "source": [
    "print(df.shape)\n",
    "# フィールド情報を統合したDataFrameを作成\n",
    "field_info_df = pd.DataFrame({\n",
    "    'dtype': df.dtypes,\n",
    "    'isna_sum': df.isna().sum(),\n",
    "    'nunique': df.nunique()\n",
    "})\n",
    "\n",
    "print(\"フィールド情報統合DataFrame:\")\n",
    "field_info_df.sort_values('nunique', ascending=True)"
   ]
  },
  {
   "cell_type": "markdown",
   "id": "e2a0938b",
   "metadata": {},
   "source": [
    "# テスト"
   ]
  },
  {
   "cell_type": "code",
   "execution_count": null,
   "id": "0547e907",
   "metadata": {},
   "outputs": [],
   "source": [
    "import pandas as pd\n",
    "def compare_dataframes(df1, df2):\n",
    "    if df1.shape != df2.shape:\n",
    "        display_massage_errored(f\"形状が異なります: df1={df1.shape}, df2={df2.shape}\")\n",
    "        return False\n",
    "\n",
    "    # カラムの一致を確認\n",
    "    df1_columns = set(df1.columns)\n",
    "    df2_columns = set(df2.columns)\n",
    "    if df1_columns != df2_columns:\n",
    "        display_massage_errored(f\"カラムが異なります: df1={df1_columns}, df2={df2_columns}\")\n",
    "        return False\n",
    "\n",
    "    # カラムの順序を一致させる\n",
    "    common_columns = df1.columns.intersection(df2.columns)\n",
    "    df1 = df1[sorted(common_columns)]\n",
    "    df2 = df2[sorted(common_columns)]\n",
    "\n",
    "    # ソートしてインデックスをリセット\n",
    "    sort_keys = common_columns.tolist()\n",
    "    # 複数のカラムをソートキーに使用\n",
    "    df1_sorted = df1.sort_values(by=sort_keys).reset_index(drop=True)\n",
    "    df2_sorted = df2.sort_values(by=sort_keys).reset_index(drop=True)\n",
    "\n",
    "    # レコード数の比較\n",
    "    if len(df1_sorted) != len(df2_sorted):\n",
    "        print(\"レコード数が異なります\")\n",
    "        return False\n",
    "\n",
    "    # 値の比較\n",
    "    # 特定のフィールドのみで比較を行う\n",
    "    specific_fields = common_columns.tolist()\n",
    "    df1_filtered = df1_sorted[specific_fields]\n",
    "    df2_filtered = df2_sorted[specific_fields]\n",
    "\n",
    "    # フィルタリングされたデータフレームで比較\n",
    "    comparison_result = df1_filtered.compare(df2_filtered, keep_equal=False)\n",
    "    if not comparison_result.empty:\n",
    "        print(\"指定されたフィールドで値が異なります\")\n",
    "        pd.set_option(\"display.max_columns\", None)\n",
    "        pd.set_option(\"display.width\", 1000)\n",
    "        pd.set_option(\"display.max_colwidth\", None)\n",
    "        return print(comparison_result)\n",
    "    print(\"Test all OK\")\n",
    "    # display(\n",
    "    #         HTML(\n",
    "    #             f\"<span style='color: green;'>Test all OK</span>\"\n",
    "    #         )\n",
    "    #     )\n",
    "    return True\n"
   ]
  }
 ],
 "metadata": {
  "language_info": {
   "name": "python"
  }
 },
 "nbformat": 4,
 "nbformat_minor": 5
}
